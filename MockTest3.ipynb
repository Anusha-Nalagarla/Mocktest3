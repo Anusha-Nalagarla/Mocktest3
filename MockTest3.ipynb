{
 "cells": [
  {
   "cell_type": "markdown",
   "id": "e31de9a1",
   "metadata": {},
   "source": [
    "Implement a stack using a list in Python. Include the necessary methods such as push, pop, and isEmpty."
   ]
  },
  {
   "cell_type": "code",
   "execution_count": 1,
   "id": "0c005f2a",
   "metadata": {},
   "outputs": [
    {
     "name": "stdout",
     "output_type": "stream",
     "text": [
      "Popped item is 4\n",
      "Elements in the stack are: \n",
      "3\n",
      "2\n",
      "1\n"
     ]
    }
   ],
   "source": [
    "def isEmpty(stk): \n",
    "   if stk==[]:\n",
    "      return True\n",
    "   else:\n",
    "      return False\n",
    "\n",
    "def Push(stk,item): \n",
    "   stk.append(item)\n",
    "   top=len(stk)-1\n",
    "\n",
    "def Pop(stk):\n",
    "   if isEmpty(stk): \n",
    "      print(\"Underflow\")\n",
    "   else: \n",
    "      item=stk.pop()\n",
    "      if len(stk)==0:\n",
    "         top=None\n",
    "      else:\n",
    "         top=len(stk)\n",
    "         print(\"Popped item is \"+str(item))\n",
    "\n",
    "def Display(stk):\n",
    "   if isEmpty(stk):\n",
    "      print(\"Stack is empty\")\n",
    "   else:\n",
    "      top=len(stk)-1\n",
    "      print(\"Elements in the stack are: \")\n",
    "      for i in range(top,-1,-1):\n",
    "         print (str(stk[i]))\n",
    "\n",
    "if __name__ == \"__main__\":\n",
    "   stk=[]\n",
    "   top=None\n",
    "   Push(stk,1)\n",
    "   Push(stk,2)\n",
    "   Push(stk,3)\n",
    "   Push(stk,4)\n",
    "   Pop(stk)\n",
    "   Display(stk)"
   ]
  },
  {
   "cell_type": "code",
   "execution_count": null,
   "id": "2e9489dd",
   "metadata": {},
   "outputs": [],
   "source": [
    "Implement a queue using a list in Python. Include the necessary methods such as enqueue, dequeue, and isEmpty."
   ]
  },
  {
   "cell_type": "code",
   "execution_count": 2,
   "id": "8eff210f",
   "metadata": {},
   "outputs": [
    {
     "name": "stdout",
     "output_type": "stream",
     "text": [
      "Popped Element is: 5\n",
      "Elements on queue are:\n",
      "3\n",
      "5\n",
      "9\n",
      "6\n"
     ]
    }
   ],
   "source": [
    "def enqueue(data):\n",
    "   queue.insert(0,data)\n",
    "\n",
    "def dequeue():\n",
    "   if len(queue)>0:\n",
    "      return queue.pop()\n",
    "   return (\"Queue Empty!\")\n",
    "\n",
    "def display():\n",
    "   print(\"Elements on queue are:\");\n",
    "   for i in range(len(queue)):\n",
    "      print(queue[i])\n",
    "\n",
    "if __name__==\"__main__\":\n",
    "   queue=[]\n",
    "   enqueue(5)\n",
    "   enqueue(6)\n",
    "   enqueue(9)\n",
    "   enqueue(5)\n",
    "   enqueue(3)\n",
    "   print(\"Popped Element is: \"+str(dequeue()))\n",
    "   display()"
   ]
  },
  {
   "cell_type": "code",
   "execution_count": null,
   "id": "51827fa8",
   "metadata": {},
   "outputs": [],
   "source": []
  }
 ],
 "metadata": {
  "kernelspec": {
   "display_name": "Python 3 (ipykernel)",
   "language": "python",
   "name": "python3"
  },
  "language_info": {
   "codemirror_mode": {
    "name": "ipython",
    "version": 3
   },
   "file_extension": ".py",
   "mimetype": "text/x-python",
   "name": "python",
   "nbconvert_exporter": "python",
   "pygments_lexer": "ipython3",
   "version": "3.9.12"
  }
 },
 "nbformat": 4,
 "nbformat_minor": 5
}
